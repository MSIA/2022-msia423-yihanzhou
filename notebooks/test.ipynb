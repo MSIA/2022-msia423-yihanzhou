{
 "cells": [
  {
   "cell_type": "code",
   "execution_count": 21,
   "id": "0b476486",
   "metadata": {},
   "outputs": [],
   "source": [
    "import pandas as pd\n",
    "from sklearn.preprocessing import OneHotEncoder"
   ]
  },
  {
   "cell_type": "code",
   "execution_count": 2,
   "id": "5030059e",
   "metadata": {},
   "outputs": [
    {
     "data": {
      "text/plain": [
       "(10781, 9)"
      ]
     },
     "execution_count": 2,
     "metadata": {},
     "output_type": "execute_result"
    }
   ],
   "source": [
    "bmw = pd.read_csv('bmw.csv')\n",
    "bmw.shape"
   ]
  },
  {
   "cell_type": "code",
   "execution_count": 7,
   "id": "ecc7dad4",
   "metadata": {},
   "outputs": [],
   "source": [
    "bmw.drop('Unnamed: 0',axis=1,inplace=True)"
   ]
  },
  {
   "cell_type": "code",
   "execution_count": 10,
   "id": "684e8e9e",
   "metadata": {},
   "outputs": [],
   "source": [
    "bmw_subset = bmw.head(5)"
   ]
  },
  {
   "cell_type": "code",
   "execution_count": 18,
   "id": "eca309bc",
   "metadata": {},
   "outputs": [
    {
     "data": {
      "text/html": [
       "<div>\n",
       "<style scoped>\n",
       "    .dataframe tbody tr th:only-of-type {\n",
       "        vertical-align: middle;\n",
       "    }\n",
       "\n",
       "    .dataframe tbody tr th {\n",
       "        vertical-align: top;\n",
       "    }\n",
       "\n",
       "    .dataframe thead th {\n",
       "        text-align: right;\n",
       "    }\n",
       "</style>\n",
       "<table border=\"1\" class=\"dataframe\">\n",
       "  <thead>\n",
       "    <tr style=\"text-align: right;\">\n",
       "      <th></th>\n",
       "      <th>model</th>\n",
       "      <th>year</th>\n",
       "      <th>price</th>\n",
       "      <th>transmission</th>\n",
       "      <th>mileage</th>\n",
       "      <th>fuelType</th>\n",
       "      <th>mpg</th>\n",
       "      <th>engineSize</th>\n",
       "    </tr>\n",
       "  </thead>\n",
       "  <tbody>\n",
       "    <tr>\n",
       "      <th>0</th>\n",
       "      <td>5 Series</td>\n",
       "      <td>2014</td>\n",
       "      <td>11200</td>\n",
       "      <td>Automatic</td>\n",
       "      <td>67068</td>\n",
       "      <td>Diesel</td>\n",
       "      <td>57.6</td>\n",
       "      <td>2.0</td>\n",
       "    </tr>\n",
       "    <tr>\n",
       "      <th>1</th>\n",
       "      <td>6 Series</td>\n",
       "      <td>2018</td>\n",
       "      <td>27000</td>\n",
       "      <td>Automatic</td>\n",
       "      <td>14827</td>\n",
       "      <td>Petrol</td>\n",
       "      <td>42.8</td>\n",
       "      <td>2.0</td>\n",
       "    </tr>\n",
       "    <tr>\n",
       "      <th>2</th>\n",
       "      <td>5 Series</td>\n",
       "      <td>2016</td>\n",
       "      <td>16000</td>\n",
       "      <td>Automatic</td>\n",
       "      <td>62794</td>\n",
       "      <td>Diesel</td>\n",
       "      <td>51.4</td>\n",
       "      <td>3.0</td>\n",
       "    </tr>\n",
       "    <tr>\n",
       "      <th>3</th>\n",
       "      <td>1 Series</td>\n",
       "      <td>2017</td>\n",
       "      <td>12750</td>\n",
       "      <td>Automatic</td>\n",
       "      <td>26676</td>\n",
       "      <td>Diesel</td>\n",
       "      <td>72.4</td>\n",
       "      <td>1.5</td>\n",
       "    </tr>\n",
       "    <tr>\n",
       "      <th>4</th>\n",
       "      <td>7 Series</td>\n",
       "      <td>2014</td>\n",
       "      <td>14500</td>\n",
       "      <td>Automatic</td>\n",
       "      <td>39554</td>\n",
       "      <td>Diesel</td>\n",
       "      <td>50.4</td>\n",
       "      <td>3.0</td>\n",
       "    </tr>\n",
       "  </tbody>\n",
       "</table>\n",
       "</div>"
      ],
      "text/plain": [
       "      model  year  price transmission  mileage fuelType   mpg  engineSize\n",
       "0  5 Series  2014  11200    Automatic    67068   Diesel  57.6         2.0\n",
       "1  6 Series  2018  27000    Automatic    14827   Petrol  42.8         2.0\n",
       "2  5 Series  2016  16000    Automatic    62794   Diesel  51.4         3.0\n",
       "3  1 Series  2017  12750    Automatic    26676   Diesel  72.4         1.5\n",
       "4  7 Series  2014  14500    Automatic    39554   Diesel  50.4         3.0"
      ]
     },
     "execution_count": 18,
     "metadata": {},
     "output_type": "execute_result"
    }
   ],
   "source": [
    "bmw_subset"
   ]
  },
  {
   "cell_type": "code",
   "execution_count": 11,
   "id": "cae4cb9d",
   "metadata": {},
   "outputs": [
    {
     "data": {
      "text/plain": [
       "array([['5 Series', 2014, 11200, 'Automatic', 67068, 'Diesel', 57.6, 2.0],\n",
       "       ['6 Series', 2018, 27000, 'Automatic', 14827, 'Petrol', 42.8, 2.0],\n",
       "       ['5 Series', 2016, 16000, 'Automatic', 62794, 'Diesel', 51.4, 3.0],\n",
       "       ['1 Series', 2017, 12750, 'Automatic', 26676, 'Diesel', 72.4, 1.5],\n",
       "       ['7 Series', 2014, 14500, 'Automatic', 39554, 'Diesel', 50.4, 3.0]],\n",
       "      dtype=object)"
      ]
     },
     "execution_count": 11,
     "metadata": {},
     "output_type": "execute_result"
    }
   ],
   "source": [
    "bmw_subset.values"
   ]
  },
  {
   "cell_type": "code",
   "execution_count": 12,
   "id": "04b99db5",
   "metadata": {},
   "outputs": [
    {
     "data": {
      "text/plain": [
       "RangeIndex(start=0, stop=5, step=1)"
      ]
     },
     "execution_count": 12,
     "metadata": {},
     "output_type": "execute_result"
    }
   ],
   "source": [
    "bmw_subset.index"
   ]
  },
  {
   "cell_type": "code",
   "execution_count": 13,
   "id": "acda772c",
   "metadata": {},
   "outputs": [
    {
     "data": {
      "text/plain": [
       "Index(['model', 'year', 'price', 'transmission', 'mileage', 'fuelType', 'mpg',\n",
       "       'engineSize'],\n",
       "      dtype='object')"
      ]
     },
     "execution_count": 13,
     "metadata": {},
     "output_type": "execute_result"
    }
   ],
   "source": [
    "bmw_subset.columns"
   ]
  },
  {
   "cell_type": "code",
   "execution_count": 19,
   "id": "c7838542",
   "metadata": {},
   "outputs": [],
   "source": [
    "df_in_values = [['5 Series', 2014, 11200, 'Automatic', 67068, 'Diesel', 57.6, 2.0],\n",
    "       ['6 Series', 2018, 27000, 'Automatic', 14827, 'Petrol', 42.8, 2.0],\n",
    "       ['5 Series', 2016, 16000, 'Automatic', 62794, 'Diesel', 51.4, 3.0],\n",
    "       ['1 Series', 2017, 12750, 'Automatic', 26676, 'Diesel', 72.4, 1.5],\n",
    "       ['7 Series', 2014, 14500, 'Automatic', 39554, 'Diesel', 50.4, 3.0]]\n",
    "df_in_index = range(0, 5)\n",
    "df_in_columns = ['model', 'year', 'price', 'transmission', 'mileage', 'fuelType', 'mpg',\n",
    "       'engineSize']\n",
    "df_in = pd.DataFrame(df_in_values, index=df_in_index,columns=df_in_columns)"
   ]
  },
  {
   "cell_type": "code",
   "execution_count": 20,
   "id": "fa4e0b7f",
   "metadata": {},
   "outputs": [
    {
     "data": {
      "text/plain": [
       "True"
      ]
     },
     "execution_count": 20,
     "metadata": {},
     "output_type": "execute_result"
    }
   ],
   "source": [
    "df_in.equals(bmw_subset)"
   ]
  },
  {
   "cell_type": "code",
   "execution_count": 53,
   "id": "7da6dd6d",
   "metadata": {},
   "outputs": [],
   "source": [
    "def get_features(data, cat_col):\n",
    "    \"\"\"\n",
    "    Convert the categorical variables into dummy variables\n",
    "    Args:\n",
    "        data(pd.Dataframe): the raw data\n",
    "        cat_col(list of str): the categorical columns\n",
    "    Returns:\n",
    "        input_data(pd.Dataframe): the input data for training the model\n",
    "    \"\"\"\n",
    "\n",
    "    ohe = OneHotEncoder()\n",
    "    if not isinstance(data, pd.DataFrame):\n",
    "        raise TypeError(\"Provided argument `data` is not a Panda's DataFrame object\")\n",
    "    ohe_features = pd.DataFrame(ohe.fit_transform(data[cat_col]).toarray(),\n",
    "                                columns=ohe.get_feature_names())\n",
    "\n",
    "    input_data = pd.concat([ohe_features, data], axis=1).drop(cat_col, axis=1)\n",
    "\n",
    "    return input_data"
   ]
  },
  {
   "cell_type": "code",
   "execution_count": 25,
   "id": "d2e939b9",
   "metadata": {},
   "outputs": [],
   "source": [
    "cat_col = ['model','transmission','fuelType']"
   ]
  },
  {
   "cell_type": "code",
   "execution_count": 62,
   "id": "97f89515",
   "metadata": {},
   "outputs": [],
   "source": [
    "ohe_cols = ['x0_1 Series', 'x0_2 Series', 'x0_3 Series', 'x0_4 Series',\n",
    "       'x0_5 Series', 'x0_6 Series', 'x0_7 Series', 'x0_8 Series', 'x0_M2',\n",
    "       'x0_M3', 'x0_M4', 'x0_M5', 'x0_M6', 'x0_X1', 'x0_X2', 'x0_X3', 'x0_X4',\n",
    "       'x0_X5', 'x0_X6', 'x0_X7', 'x0_Z3', 'x0_Z4', 'x0_i3', 'x0_i8',\n",
    "       'x1_Automatic', 'x1_Manual', 'x1_Semi-Auto', 'x2_Diesel', 'x2_Electric',\n",
    "       'x2_Hybrid', 'x2_Other', 'x2_Petrol', 'year', 'mileage', 'mpg',\n",
    "       'engineSize']"
   ]
  },
  {
   "cell_type": "code",
   "execution_count": 51,
   "id": "cff0cfda",
   "metadata": {},
   "outputs": [],
   "source": [
    "df_test = get_features(df_in, cat_col)"
   ]
  },
  {
   "cell_type": "code",
   "execution_count": 49,
   "id": "2bb01d0c",
   "metadata": {},
   "outputs": [],
   "source": [
    "df_true = pd.DataFrame([[0.0000e+00, 1.0000e+00, 0.0000e+00, 0.0000e+00, 1.0000e+00,\n",
    "        1.0000e+00, 0.0000e+00, 2014, 11200, 67068,\n",
    "        5.7600e+01, 2.0000e+00],\n",
    "       [0.0000e+00, 0.0000e+00, 1.0000e+00, 0.0000e+00, 1.0000e+00,\n",
    "        0.0000e+00, 1.0000e+00, 2018, 27000, 14827,\n",
    "        4.2800e+01, 2.0000e+00],\n",
    "       [0.0000e+00, 1.0000e+00, 0.0000e+00, 0.0000e+00, 1.0000e+00,\n",
    "        1.0000e+00, 0.0000e+00, 2016, 16000, 62794,\n",
    "        5.1400e+01, 3.0000e+00],\n",
    "       [1.0000e+00, 0.0000e+00, 0.0000e+00, 0.0000e+00, 1.0000e+00,\n",
    "        1.0000e+00, 0.0000e+00, 2017, 12750, 26676,\n",
    "        7.2400e+01, 1.5000e+00],\n",
    "       [0.0000e+00, 0.0000e+00, 0.0000e+00, 1.0000e+00, 1.0000e+00,\n",
    "        1.0000e+00, 0.0000e+00, 2014, 14500, 39554,\n",
    "        5.0400e+01, 3.0000e+00]],\n",
    "        index = range(0,5),\n",
    "        columns = ['x0_1 Series', 'x0_5 Series', 'x0_6 Series', 'x0_7 Series',\n",
    "       'x1_Automatic', 'x2_Diesel', 'x2_Petrol', 'year', 'price', 'mileage',\n",
    "       'mpg', 'engineSize'])"
   ]
  },
  {
   "cell_type": "code",
   "execution_count": 52,
   "id": "e8317f68",
   "metadata": {},
   "outputs": [
    {
     "data": {
      "text/plain": [
       "True"
      ]
     },
     "execution_count": 52,
     "metadata": {},
     "output_type": "execute_result"
    }
   ],
   "source": [
    "df_true.equals(df_test)"
   ]
  },
  {
   "cell_type": "code",
   "execution_count": 54,
   "id": "b1a94d6c",
   "metadata": {},
   "outputs": [],
   "source": [
    "import logging"
   ]
  },
  {
   "cell_type": "code",
   "execution_count": 55,
   "id": "e8cdf9e9",
   "metadata": {},
   "outputs": [
    {
     "ename": "TypeError",
     "evalue": "Provided argument `data` is not a Panda's DataFrame object",
     "output_type": "error",
     "traceback": [
      "\u001b[0;31m---------------------------------------------------------------------------\u001b[0m",
      "\u001b[0;31mTypeError\u001b[0m                                 Traceback (most recent call last)",
      "\u001b[0;32m<ipython-input-55-167bdfb64894>\u001b[0m in \u001b[0;36m<module>\u001b[0;34m\u001b[0m\n\u001b[1;32m      1\u001b[0m \u001b[0mdf_in_non_df\u001b[0m \u001b[0;34m=\u001b[0m \u001b[0;34m'I am not a DataFrame'\u001b[0m\u001b[0;34m\u001b[0m\u001b[0;34m\u001b[0m\u001b[0m\n\u001b[0;32m----> 2\u001b[0;31m \u001b[0mget_features\u001b[0m\u001b[0;34m(\u001b[0m\u001b[0mdf_in_non_df\u001b[0m\u001b[0;34m,\u001b[0m \u001b[0mcat_col\u001b[0m\u001b[0;34m)\u001b[0m\u001b[0;34m\u001b[0m\u001b[0;34m\u001b[0m\u001b[0m\n\u001b[0m",
      "\u001b[0;32m<ipython-input-53-3352034eb7b1>\u001b[0m in \u001b[0;36mget_features\u001b[0;34m(data, cat_col)\u001b[0m\n\u001b[1;32m     11\u001b[0m     \u001b[0mohe\u001b[0m \u001b[0;34m=\u001b[0m \u001b[0mOneHotEncoder\u001b[0m\u001b[0;34m(\u001b[0m\u001b[0;34m)\u001b[0m\u001b[0;34m\u001b[0m\u001b[0;34m\u001b[0m\u001b[0m\n\u001b[1;32m     12\u001b[0m     \u001b[0;32mif\u001b[0m \u001b[0;32mnot\u001b[0m \u001b[0misinstance\u001b[0m\u001b[0;34m(\u001b[0m\u001b[0mdata\u001b[0m\u001b[0;34m,\u001b[0m \u001b[0mpd\u001b[0m\u001b[0;34m.\u001b[0m\u001b[0mDataFrame\u001b[0m\u001b[0;34m)\u001b[0m\u001b[0;34m:\u001b[0m\u001b[0;34m\u001b[0m\u001b[0;34m\u001b[0m\u001b[0m\n\u001b[0;32m---> 13\u001b[0;31m         \u001b[0;32mraise\u001b[0m \u001b[0mTypeError\u001b[0m\u001b[0;34m(\u001b[0m\u001b[0;34m\"Provided argument `data` is not a Panda's DataFrame object\"\u001b[0m\u001b[0;34m)\u001b[0m\u001b[0;34m\u001b[0m\u001b[0;34m\u001b[0m\u001b[0m\n\u001b[0m\u001b[1;32m     14\u001b[0m     ohe_features = pd.DataFrame(ohe.fit_transform(data[cat_col]).toarray(),\n\u001b[1;32m     15\u001b[0m                                 columns=ohe.get_feature_names())\n",
      "\u001b[0;31mTypeError\u001b[0m: Provided argument `data` is not a Panda's DataFrame object"
     ]
    }
   ],
   "source": [
    "df_in_non_df = 'I am not a DataFrame'\n",
    "get_features(df_in_non_df, cat_col)"
   ]
  },
  {
   "cell_type": "code",
   "execution_count": null,
   "id": "3ad1b45d",
   "metadata": {},
   "outputs": [],
   "source": []
  },
  {
   "cell_type": "code",
   "execution_count": 56,
   "id": "0a32ff3f",
   "metadata": {},
   "outputs": [],
   "source": [
    "user_input = {'model': '5 Series',\n",
    "              'year': 2017,\n",
    "              'transmission': 'Semi-Auto',\n",
    "              'mileage': 67068,\n",
    "              'fuelType': 'Diesel',\n",
    "              'mpg': 60,\n",
    "              'engineSize': 20}"
   ]
  },
  {
   "cell_type": "code",
   "execution_count": 90,
   "id": "5625bfcb",
   "metadata": {},
   "outputs": [],
   "source": [
    "df_true = pd.DataFrame([[0.0000e+00, 0.0000e+00, 0.0000e+00, 0.0000e+00, 1.0000e+00,\n",
    "        0, 0, 0, 0, 0,\n",
    "        0, 0, 0, 0, 0,\n",
    "        0, 0, 0, 0, 0,\n",
    "        0, 0, 0, 0, 0,\n",
    "        0, 1.0, 1.0, 0, 0,\n",
    "        0, 0, 2017, 67068, 60,\n",
    "        20]],\n",
    "        index=[0],\n",
    "        columns = ['x0_1 Series', 'x0_2 Series', 'x0_3 Series', 'x0_4 Series',\n",
    "       'x0_5 Series', 'x0_6 Series', 'x0_7 Series', 'x0_8 Series', 'x0_M2',\n",
    "       'x0_M3', 'x0_M4', 'x0_M5', 'x0_M6', 'x0_X1', 'x0_X2', 'x0_X3', 'x0_X4',\n",
    "       'x0_X5', 'x0_X6', 'x0_X7', 'x0_Z3', 'x0_Z4', 'x0_i3', 'x0_i8',\n",
    "       'x1_Automatic', 'x1_Manual', 'x1_Semi-Auto', 'x2_Diesel', 'x2_Electric',\n",
    "       'x2_Hybrid', 'x2_Other', 'x2_Petrol', 'year', 'mileage', 'mpg',\n",
    "       'engineSize'])"
   ]
  },
  {
   "cell_type": "code",
   "execution_count": 58,
   "id": "5adf91e0",
   "metadata": {},
   "outputs": [],
   "source": [
    "def transform_input(ui_dict, cat_cols, ohe_cols):\n",
    "    \"\"\"Transform the user input from the app to get predictions using the trained model\n",
    "    Args:\n",
    "        ui_dict (dict): a dictionary of user input, collected from the app\n",
    "        cat_cols (:obj: `list`): a list of categorical columns in the initial input\n",
    "        ohe_cols (:obj: `list`): a list of required columns in the transformed user input DataFrame\n",
    "    Returns:\n",
    "        test_df (:obj:`DataFrame <pandas.DataFrame>`): DataFrame that stores the transformed user input\n",
    "    \"\"\"\n",
    "    # transform the user input into a pd Dataframe\n",
    "    input_df = pd.DataFrame(ui_dict, index=[0])\n",
    "\n",
    "    # Create a new dataframe to match the ohe_col names\n",
    "    ohe_empty = pd.DataFrame(columns=ohe_cols)\n",
    "\n",
    "    # ohe transform on the categorical columns\n",
    "    ohe = OneHotEncoder()\n",
    "    data1 = pd.DataFrame(ohe.fit_transform(input_df[cat_cols]).toarray(),\n",
    "                         columns=ohe.get_feature_names())\n",
    "\n",
    "    # merge the ohe data with all the input data\n",
    "    merged_input = pd.concat([data1, input_df], axis=1).drop(cat_cols, axis=1)\n",
    "\n",
    "    # Join the merged input data with the empty dataframe for training\n",
    "    for col in ohe_empty.columns:\n",
    "        if col not in merged_input.columns:\n",
    "            ohe_empty[col] = 0\n",
    "        else:\n",
    "            ohe_empty[col] = merged_input[col]\n",
    "    test_df = ohe_empty.fillna(0)\n",
    "\n",
    "    return test_df\n"
   ]
  },
  {
   "cell_type": "code",
   "execution_count": 63,
   "id": "7ad23bac",
   "metadata": {},
   "outputs": [],
   "source": [
    "df_test= transform_input(user_input, cat_col, ohe_cols)"
   ]
  },
  {
   "cell_type": "code",
   "execution_count": 91,
   "id": "963508e9",
   "metadata": {},
   "outputs": [
    {
     "data": {
      "text/plain": [
       "True"
      ]
     },
     "execution_count": 91,
     "metadata": {},
     "output_type": "execute_result"
    }
   ],
   "source": [
    "df_test.equals(df_true)"
   ]
  },
  {
   "cell_type": "code",
   "execution_count": 88,
   "id": "ebeba1a6",
   "metadata": {},
   "outputs": [
    {
     "data": {
      "text/html": [
       "<div>\n",
       "<style scoped>\n",
       "    .dataframe tbody tr th:only-of-type {\n",
       "        vertical-align: middle;\n",
       "    }\n",
       "\n",
       "    .dataframe tbody tr th {\n",
       "        vertical-align: top;\n",
       "    }\n",
       "\n",
       "    .dataframe thead th {\n",
       "        text-align: right;\n",
       "    }\n",
       "</style>\n",
       "<table border=\"1\" class=\"dataframe\">\n",
       "  <thead>\n",
       "    <tr style=\"text-align: right;\">\n",
       "      <th></th>\n",
       "      <th>x0_1 Series</th>\n",
       "      <th>x0_2 Series</th>\n",
       "      <th>x0_3 Series</th>\n",
       "      <th>x0_4 Series</th>\n",
       "      <th>x0_5 Series</th>\n",
       "      <th>x0_6 Series</th>\n",
       "      <th>x0_7 Series</th>\n",
       "      <th>x0_8 Series</th>\n",
       "      <th>x0_M2</th>\n",
       "      <th>x0_M3</th>\n",
       "      <th>...</th>\n",
       "      <th>x1_Semi-Auto</th>\n",
       "      <th>x2_Diesel</th>\n",
       "      <th>x2_Electric</th>\n",
       "      <th>x2_Hybrid</th>\n",
       "      <th>x2_Other</th>\n",
       "      <th>x2_Petrol</th>\n",
       "      <th>year</th>\n",
       "      <th>mileage</th>\n",
       "      <th>mpg</th>\n",
       "      <th>engineSize</th>\n",
       "    </tr>\n",
       "  </thead>\n",
       "  <tbody>\n",
       "    <tr>\n",
       "      <th>0</th>\n",
       "      <td>0.0</td>\n",
       "      <td>0.0</td>\n",
       "      <td>0.0</td>\n",
       "      <td>0.0</td>\n",
       "      <td>1.0</td>\n",
       "      <td>0</td>\n",
       "      <td>0</td>\n",
       "      <td>0</td>\n",
       "      <td>0</td>\n",
       "      <td>0</td>\n",
       "      <td>...</td>\n",
       "      <td>1.0</td>\n",
       "      <td>1.0</td>\n",
       "      <td>0</td>\n",
       "      <td>0</td>\n",
       "      <td>0</td>\n",
       "      <td>0</td>\n",
       "      <td>2017</td>\n",
       "      <td>67068</td>\n",
       "      <td>60</td>\n",
       "      <td>20</td>\n",
       "    </tr>\n",
       "  </tbody>\n",
       "</table>\n",
       "<p>1 rows × 36 columns</p>\n",
       "</div>"
      ],
      "text/plain": [
       "   x0_1 Series  x0_2 Series  x0_3 Series  x0_4 Series  x0_5 Series  \\\n",
       "0          0.0          0.0          0.0          0.0          1.0   \n",
       "\n",
       "   x0_6 Series  x0_7 Series  x0_8 Series  x0_M2  x0_M3  ...  x1_Semi-Auto  \\\n",
       "0            0            0            0      0      0  ...           1.0   \n",
       "\n",
       "   x2_Diesel  x2_Electric  x2_Hybrid  x2_Other  x2_Petrol  year  mileage  mpg  \\\n",
       "0        1.0            0          0         0          0  2017    67068   60   \n",
       "\n",
       "   engineSize  \n",
       "0          20  \n",
       "\n",
       "[1 rows x 36 columns]"
      ]
     },
     "execution_count": 88,
     "metadata": {},
     "output_type": "execute_result"
    }
   ],
   "source": [
    "df_test"
   ]
  },
  {
   "cell_type": "code",
   "execution_count": 89,
   "id": "ae72f089",
   "metadata": {},
   "outputs": [
    {
     "data": {
      "text/html": [
       "<div>\n",
       "<style scoped>\n",
       "    .dataframe tbody tr th:only-of-type {\n",
       "        vertical-align: middle;\n",
       "    }\n",
       "\n",
       "    .dataframe tbody tr th {\n",
       "        vertical-align: top;\n",
       "    }\n",
       "\n",
       "    .dataframe thead th {\n",
       "        text-align: right;\n",
       "    }\n",
       "</style>\n",
       "<table border=\"1\" class=\"dataframe\">\n",
       "  <thead>\n",
       "    <tr style=\"text-align: right;\">\n",
       "      <th></th>\n",
       "      <th>x0_1 Series</th>\n",
       "      <th>x0_2 Series</th>\n",
       "      <th>x0_3 Series</th>\n",
       "      <th>x0_4 Series</th>\n",
       "      <th>x0_5 Series</th>\n",
       "      <th>x0_6 Series</th>\n",
       "      <th>x0_7 Series</th>\n",
       "      <th>x0_8 Series</th>\n",
       "      <th>x0_M2</th>\n",
       "      <th>x0_M3</th>\n",
       "      <th>...</th>\n",
       "      <th>x1_Semi-Auto</th>\n",
       "      <th>x2_Diesel</th>\n",
       "      <th>x2_Electric</th>\n",
       "      <th>x2_Hybrid</th>\n",
       "      <th>x2_Other</th>\n",
       "      <th>x2_Petrol</th>\n",
       "      <th>year</th>\n",
       "      <th>mileage</th>\n",
       "      <th>mpg</th>\n",
       "      <th>engineSize</th>\n",
       "    </tr>\n",
       "  </thead>\n",
       "  <tbody>\n",
       "    <tr>\n",
       "      <th>0</th>\n",
       "      <td>0.0</td>\n",
       "      <td>0.0</td>\n",
       "      <td>0.0</td>\n",
       "      <td>0.0</td>\n",
       "      <td>1.0</td>\n",
       "      <td>0</td>\n",
       "      <td>0</td>\n",
       "      <td>0</td>\n",
       "      <td>0</td>\n",
       "      <td>0</td>\n",
       "      <td>...</td>\n",
       "      <td>1.0</td>\n",
       "      <td>1.0</td>\n",
       "      <td>0</td>\n",
       "      <td>0</td>\n",
       "      <td>0</td>\n",
       "      <td>0</td>\n",
       "      <td>2017</td>\n",
       "      <td>67068</td>\n",
       "      <td>60000</td>\n",
       "      <td>20</td>\n",
       "    </tr>\n",
       "  </tbody>\n",
       "</table>\n",
       "<p>1 rows × 36 columns</p>\n",
       "</div>"
      ],
      "text/plain": [
       "   x0_1 Series  x0_2 Series  x0_3 Series  x0_4 Series  x0_5 Series  \\\n",
       "0          0.0          0.0          0.0          0.0          1.0   \n",
       "\n",
       "   x0_6 Series  x0_7 Series  x0_8 Series  x0_M2  x0_M3  ...  x1_Semi-Auto  \\\n",
       "0            0            0            0      0      0  ...           1.0   \n",
       "\n",
       "   x2_Diesel  x2_Electric  x2_Hybrid  x2_Other  x2_Petrol  year  mileage  \\\n",
       "0        1.0            0          0         0          0  2017    67068   \n",
       "\n",
       "     mpg  engineSize  \n",
       "0  60000          20  \n",
       "\n",
       "[1 rows x 36 columns]"
      ]
     },
     "execution_count": 89,
     "metadata": {},
     "output_type": "execute_result"
    }
   ],
   "source": [
    "df_true"
   ]
  }
 ],
 "metadata": {
  "kernelspec": {
   "display_name": "Python 3",
   "language": "python",
   "name": "python3"
  },
  "language_info": {
   "codemirror_mode": {
    "name": "ipython",
    "version": 3
   },
   "file_extension": ".py",
   "mimetype": "text/x-python",
   "name": "python",
   "nbconvert_exporter": "python",
   "pygments_lexer": "ipython3",
   "version": "3.8.8"
  }
 },
 "nbformat": 4,
 "nbformat_minor": 5
}
